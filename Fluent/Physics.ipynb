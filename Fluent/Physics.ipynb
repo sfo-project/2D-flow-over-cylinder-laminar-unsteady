{
 "cells": [
  {
   "cell_type": "markdown",
   "metadata": {},
   "source": [
    "# CFD Problem's Physics & Theory\n",
    "\n",
    "**In developing CFD simulation for a fluid mechanic problem understanding the general physics and fundamental theory of the problem is extremely important. This knowledge would provide users the ability to make logical decision about the geometry of CFD domain, choice of proper boundary conditions and numerical models for the CFD simulation. Furthermore, user will have a general big picture on the expected outcome of simulation. These knowledges and abilities form the foundation for a successful implementation and validation of the CFD simulation.**\n",
    "\n",
    "**In other words understanding physics and theory of problem before developing a CFD simulation can be thought of turning on a flash light before taking any step in a completely dark room. Hence, let's review the fundamental physics and theory behind the problem of \"[insert the topic of problem here]\" as the first step for development and validation of CFD simulation for this problem of interest:**\n"
   ]
  },
  {
   "cell_type": "markdown",
   "metadata": {
    "collapsed": true
   },
   "source": [
    "### General statement ###\n",
    "One of the most fundamental study of fluid dynamics is about properties of flow around a blunt object. Flow over a cylinder is the basis of this field. Given a cylindrical object of a fixed dimention, the behavior of the flow is dependent on the Reynolds number, which is a dimensionless quantity widely applied in fluid dynamics.\n",
    "\n",
    "In any fluid dynamics research, a control volume(*CV*) must be defined before other phsical properties. By definition, a *Control Volume* is an inertial frame of reference within the continuum of a flow. As in this specific study, where flow is incompressible, a fixed *Control Volume* of any size satisfies our need. Thus, we could set a *Control Volume* to a specific area to study the flow within.\n",
    "\n",
    "Normally, given a *Control Volume* in a continuum, there are three major physical properties that are conservative within this *Control Volume*: **mass**, **momentum** and **energy**. In this very stage of the research, we don't consider any heat exchanging processes, that is, the energy conservation is always satified. Thus, we only consider the **conservation of mass and momentum** in order to study the flow behavior over a cylinder.\n",
    "\n",
    "<img src=\"./Images/fig.9.15.png\" width=\"700\" align=\"middle\">\n",
    "The graph above shows the flow pattern varies in accordance to different Reynolds number. In graph *(a)* and *(b)*, where the Reynolds number is small, the flow behaves camly and never changes to time. This state of flow is called a steady state. While in graph *(c)* to *(e)*, where some irregualr curves appear, we can tell from the drawing that the properties varies to time. This behavior is called an unsteady state.\n",
    "\n",
    "The difference between steady and unsteady states is the way we deal with the *rate of change* term in the conservation equations. For steady studies, as is shown in the paragraphs below, we can omit the rate of change term(i.e., the term which has a partial differencial over time $t$). However, it's not proper to directly igenore the rate of change term in any unsteady studies. \n",
    "\n",
    "So how do we study an unsteady flow? The trick here is all about choosing a control volume. As explained before, for our study, where conservation of mass, momentum and energy is always satisfied in any *Control Volume* chosen, we can do our study in some *Control Volumes* where the rate of change is so small that the system with the *Control Volume* can be defined as a steady state. Once we're done with the conservation equations in each *Control Volume*, we can solve for the flow at a certain time $t$. Then, to take the rate of change term into account, we can calculate the flow behavior in time $t+dt$, $t+2dt$, and so on... The follwing pragraphs are going to talk about how do we solve for the flow-cylinder interaction within each *control volume* and time series($dt$).\n",
    "\n",
    "\n",
    "### Conservation of mass -- determine the velosity field ###\n",
    "\n",
    "The general form of mass conservation:\n",
    "\n",
    "$$\\frac{\\partial}{\\partial t} \\int_{CV} \\rho~dV + \\int_{CS} \\mathbf{n}~.~\\rho \\mathbf{V}~dA = 0 .$$\n",
    "\n",
    "Where $\\rho$ is the density of the fluid, $\\mathbf{V}$ is the velosity of if the *control surface*, which has a unit area of $dA$ and a direction of $\\mathbf{n}$. In this conservation equation, the first term is a result of change in accordance with time, which can be omited in each mesh where a setady state is assumed. The second term, describes the mass flux in space, which has two dimensions in our study here. Thus, the equation can be reduced into:\n",
    "\n",
    "$$ \n",
    "\\frac{\\partial u}{\\partial x} + \\frac{\\partial v}{\\partial y} = 0 ,\n",
    "$$\n",
    "\n",
    "where $u$ is the horizontally disturbed velocity and $v$ are the verticle velocity component of the flow. Through this equation we can tell that, the velosity fluxes going into and out of any random *Control Volume* should be the same. Theoradically, we can calculate the velosity at any point around the cylinder, and thus conclude a velosity field in accordance with a Reyolds number given. \n",
    "\n",
    "### Consevation of momentum -- importance of drag force ###\n",
    "\n",
    "Obtaining the velosity field, we understand how the cylinder is affecting the flow. And to know the effet the flow put on the cylinder, we set our focu on the forces. There are two kinds of force acting on the cylinder, the one going streamwise, called the **drag force**, and the one perpendicular to the flow direction, named the **lift force**. Due to the symmitry of velocity field, the lift acting on the cylinder is always *zero*. Thus, the **darg** become the most important force that we want to study.\n",
    "\n",
    "To obtain the drag force acting on the cylinder, one can consider the conservation of momentum in streamwise direction. The general form of conservation of momentum equation states:\n",
    "\n",
    "$$\n",
    "\\sum \\mathbf{F_v} = \n",
    "\\frac{\\partial}{\\partial t} \\int_CV \\rho \\mathbf{V} dV +\n",
    "\\int_CS (\\mathbf{n}~.~\\rho \\mathbf{V}) \\mathbf{V} dA .\n",
    "$$\n",
    "\n",
    "By applying the equation above to an infinitesimal CV $\\delta V$, which initially bounds the mass $\\delta m$, we can obtain the defferential form of the linear monmentum equation:\n",
    "\n",
    "$$ \\delta \\mathbf{F} = \\frac{D( \\mathbf{V} \\delta m)}{Dt} $$\n",
    "\n",
    "Where $\\delta \\mathbf{F}$is the resultant force acting on $\\delta m$. As we are dealing with the whole system, $\\delta m$ can be considered as a constant, thus:\n",
    "\n",
    "$$ \\delta \\mathbf{F} = \\delta m \\frac{D \\mathbf{V} }{Dt} = \\delta m \\mathbf{a} $$\n",
    "\n",
    "Which is exactly Newton's second law. This expression for conservation of momentum connects the forces acting on the cylinder to the velocity of the flow. Since the drag is always acting in the horizontal direction, it can be calculated once we understand the flow pattern over the cylinder:\n",
    "\n",
    "$$\\delta \\mathbf{F_D} = \\rho \\delta V\n",
    "(\\frac{\\partial u}{\\partial t}\n",
    "+ u\\frac{\\partial u}{\\partial x}\n",
    "+ v\\frac{\\partial u}{\\partial y})$$\n",
    "\n",
    "However, as is previously described, the flow pattern can never be theoradically solved, we can only approach the drag force with some numerical solutions.\n",
    "\n",
    "\n",
    "\n",
    "### Dimentional Analysis -- defining drag coefficient###\n",
    "\n",
    "Although it is theoradically impossible to solve for a drag force over an object, one can still find out laws describing the drag force with dimentional analysis. Given a certain cylinder immersed in a flow of a constant velocity $V$, the drag force acting on the cylinder can be described as a function of all the variables involved:\n",
    "\n",
    "$$ \\mathbf{F_D} = f (d,\\mu,\\rho,V) $$\n",
    "\n",
    "Where $d$ is the dimention of the cylinder, $\\mu$ and $\\rho$ are the viscousity and dencity of the fluid. As there are 5 variables and 3 reference dimentions(i.e., $M, L, T$), 2 $\\Pi$ terms will be needed to finish the dimentional analysis:\n",
    "\n",
    "$$\n",
    "\\Pi_1 = \\frac{\\rho V d}{\\mu} = Re\n",
    "$$\n",
    "\n",
    "$$\n",
    "\\Pi_2 = \\frac{\\mathbf{F_D}}{d^2 \\rho V^2 }\n",
    "$$\n",
    "\n",
    "Thus,\n",
    "\n",
    "$$ \\phi(Re) = \\frac{\\mathbf{F_D}}{d^2 \\rho V^2 }  $$\n",
    "\n",
    "The euqation above connects $\\mathbf{F_D}$, $d$, $\\rho$ and $V$ to the *Reynolds number*, which is a key parameter describing the flow pattern. As $d^2$ has the same dinmention as the area $A$, the equation above can be expressed as:\n",
    "\n",
    "$$ C_D(Re) = \\frac{2\\mathbf{F_D}}{A \\rho V^2 }  $$\n",
    "\n",
    "Which defines the *drag coefficient* that helps us to study drag force in a much easier approach.\n",
    "\n",
    "In this equation $F_D$, the total drag force due to pressure and viscous forces within the flow acting on the cylinder's surface in the streamwise direction, is normalized with the available momentum within the undisturbed incoming flow that could be exerted on the cylinder. The value of this momentum is calculated using $\\rho$ as the reference density of the flow, which is the density of the flow. $V$ as the undisturbed streamwise flow velocity in the inlet and $A$, which is the projected area of the cylinder surface. For a two-dimensional cylinder the projected area is equal to the diameter of the cylinder. This is the area where pressure and viscous forces are acting on the cylinder in the streamwise direction. It should be noted that the pressure and viscous forces in the perpendicular direction to streamwise direction cancel each other. Hence, the forces and areas that they act on does not have any contribution to the drag force and coefficient."
   ]
  },
  {
   "cell_type": "markdown",
   "metadata": {},
   "source": [
    "### Unsteady situation -- application of CFD ###\n",
    "\n",
    "For steady studies, computing for one set of result may consume one a lot of time and effort, but it's still possible for a person to complete the calculation. However, unlike the steady study, as our area of interest can be separated into infinite *Control Volumes*, and a time of interest consits of infinite numbers of $dt$, it's practically impossible to complete such great calculation. As an engineer, one may adjust the sizes of the *control volume* and *time series* to a measurable level, scrafficing the accuracy while making the calculation possible. \n",
    "\n",
    "This is where Computaional Fluid Dynamics(**CFD**) have it's advatage. Taking the advatage of the power of a computer, we can minimize the size for *control volumes* and time series. Thus, the results computed with CFD could be even more accurate than another person's work. Nevertheless, as a CFD sofware can carry out the calculations more efficiently, it also spends less time to get that result. "
   ]
  },
  {
   "cell_type": "markdown",
   "metadata": {},
   "source": [
    "> For more details on the physics, theory and equation derivation please see chapter 9, section 9.2 of \"A Physical Introduction to Fluid Mechanics by Alexander J. Smits\" 2nd edition. [Download Book Here!](http://www.efluids.com/efluids/books/efluids_books.htm)"
   ]
  },
  {
   "cell_type": "code",
   "execution_count": null,
   "metadata": {
    "collapsed": true
   },
   "outputs": [],
   "source": []
  }
 ],
 "metadata": {
  "kernelspec": {
   "display_name": "Python 3",
   "language": "python",
   "name": "python3"
  },
  "language_info": {
   "codemirror_mode": {
    "name": "ipython",
    "version": 3
   },
   "file_extension": ".py",
   "mimetype": "text/x-python",
   "name": "python",
   "nbconvert_exporter": "python",
   "pygments_lexer": "ipython3",
   "version": "3.5.1"
  }
 },
 "nbformat": 4,
 "nbformat_minor": 0
}
