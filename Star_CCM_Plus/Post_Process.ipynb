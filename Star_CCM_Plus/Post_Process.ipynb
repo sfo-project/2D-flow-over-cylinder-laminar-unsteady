{
 "cells": [
  {
   "cell_type": "markdown",
   "metadata": {},
   "source": [
    "# CFD Results Post-Process and Validation\n",
    "\n",
    "**The final step for the development of a CFD simulation for a problem of interest is to process and examine the validity of the obtained numerical results (a.k.a post-processing and validation step). This steps requires an in-depth engineering knowledge about the fundamentals of the physical problem of interest. Thus, the value of investing time in understanding the fundamental physics of the flow, once again is highlighted here. This process is done starting from general inspection on CFD simulation results and ends with more detail validation process.**\n",
    "\n",
    "In this section the results for simulation of flow over a cylinder with Reynolds of 100 will be presented, discussed and experimentally validated. It should be noted that the post-processing and validation of all simulations with different Reynolds numbers would be similar to the presented procedure here. The first general rule of thumb to check the convergence of a CFD simulation is to visualize the residuals of key flow field variables, such as continuity, momentum, velocity and etc.. In STAR-CCM+ once user starts to run the simulation, the Residual values for the relative variables, based on the choices of models, are visualized in the solver window. Furthermore, users can manage details of the plotted residuals or add other residuals to be visualized via <span style=style=\"background-color:lightgrey;\">Plots/Residuals</span>.\n",
    "\n",
    "<img src=\"./Images/Re100_Residuals.png\" width=\"600\">\n",
    "</br>\n",
    "Fig. 1 - Residuals of continuity and momentum in streamwise direction (x-direction) for simulation of flow over a cylinder with Re=100.\n",
    "\n",
    "Fig. 1 visualizes the residual values of continuity and momentum in x-direction versus the number of iterations. The general decreasing trend of the residual values confirms that the numerical solution of the conservation/governing equations are converging to specific final values. As a rule of thumb reaching the continuity residual of 10E-3 is the first necessary but not sufficient general criteria to confirm the convergence of the CFD simulation. In this study case this criteria is reached after about 10 iterations and after about 50 iterations the continuity residuals reached value of 2E-5, which is a solid necessary confirmation of CFD simulation convergence. Users can also define criteria to stop the iteration process once the desired criteria is met during the iteration process. These settings are available at via <span style=style=\"background-color:lightgrey;\">Stopping Criteria\\ [right click]</span> path. Since in an unsteady simulation it is hard to know the exact number of required iterations to reach a fully-converged CFD solution, in this case study all of the \"Stopping Criteria\" were disabled. The velocity field within the CFD domain was visualized and checked frequently as simulations were running. Finally simulation was stopped after about 60000 iterations as visualized in Fig. 1.\n",
    "\n",
    "The second step is to visualize dimensionless form of the important variables within the CFD domain. This visualization step can be problem specific and should be performed over an adequate plane of choice. For most of the problems contour of normalized velocity or pressure, over a horizontal or vertical plane at the center of the CFD domain, is a good start point. The path to define an adequate probe such as planes or lines is <span style=style=\"background-color:lightgrey;\">Derived Parts/ [right click]</span>. With this path a user can define various type of probes to visualize the obtained numerical results over them. However, for the current problem since the entire domain is two dimensional and planar, it would make the entire domain the best candidate for the post-processing plane.\n",
    "\n",
    "User should now define the normalized variable of interest that needs to be visualized. The normalized streamwise velocity by the inlet velocity can be defined using <span style=style=\"background-color:lightgrey;\">Tools/Field Functions/ [[right click]</span>, name the variable in <span style=style=\"background-color:lightgrey;\">Function Name</span> (i.e. Ux/U0) and put the required formula for the variable of interest with correct syntax under <span style=style=\"background-color:lightgrey;\">Definition</span> (i.e. $${Velocity}[0]/1). This will calculate the normalized streamwise velocity with free stream velocity within entire CFD domain. It order to visualize the defined normalized flow field variable in the previous step users should use <span style=style=\"background-color:lightgrey;\">Scenes/Scalar Scene 1/Displayers/Scalar 1/Scalar Field</span> and choose the Ux/U0.\n",
    "\n",
    "<img src=\"./Images/velocity_cont_Re100.png\" width=\"600\" align=\"middle\">\n",
    "Fig. 2 - Instantaneous contours of normalized streamwise velocity with the free stream velocity over a cylinder for Reynolds of 100.\n",
    "\n",
    "Fig. 2 visualizes the instantaneous normalized streamwise velocity with free stream for flow field with Reynolds numbers of 100. As visualized in Fig. 2 the flow enters the domain (left to right) with normalized velocity of 1. Due to the imposed no-slip boundary condition over the surface of cylinder, the velocity instantly decrease to zero on the nose of the cylinder and a laminar boundary layer starts to form and grow around the cylinder's surface. Moving slightly further downstream at the top and bottom edges of the cylinder, where the formed laminar boundary layer is exposed to the free stream velocity, a shear layer will form and results in to an accelerated flow region, colored with dark red, at these two points. Furthermore, since the body of cylinder, as a blunt body, is blocking the incoming flow a decelerated region of flow would form right at the back of the cylinder. This area is the place the flow recirculates and two counter rotating vortices, as a result of flow moving over the top and bottom curved surfaces of cylinder, would form here. In flow fields with Reynolds number higher than 100 due to the dominance of the inertial forces over the viscous forces within the flow, this strong vortices on top and bottom of the cylinder and the recirculated region in the wake of the cylinder gets detached from the flow and start to shed in to the wake region with a know frequency. After a specific time interval a symmetric pattern of the shed vortices in the wake of the cylinder is formed. This region is referred to as the von-Karman vortex street. \n",
    "\n",
    "Comparison between obtained numerical results for the normalized velocity contours for different Reynolds number reveals that as Reynolds number increases the area of recirculation region just behind the cylinder and local acceleration on top of bottom of the cylinder decreases. On the other side of the spectrum, by the increase in inertial forces domination as a result of increase in Reynolds number, the frequency of the shed vortices in the wake slightly increases. Fig. 3 visualizes the instantaneous contours of normalized streamwise velocity with the free stream velocity over a cylinder with Reynolds 400. Comparison between Fig. 2 and 3 reveals the above explanation.\n",
    "\n",
    "<img src=\"./Images/velocity_cont_Re400.png\" width=\"600\" align=\"middle\">\n",
    "Fig. 3 - Instantaneous contours of normalized streamwise velocity with the free stream velocity over a cylinder for Reynolds of 400.\n",
    "\n",
    "In addition to instantaneous velocity contours visualization, as showed and discussed above, users can also produce an <span style=style=\"background-color:lightgrey;\">Animation</span> (temporal evolution) of these instantaneous contours. To perform this post processing step users should first save the corresponding temporally variable data from the beginning of the simulation. The path of <span style=style=\"background-color:lightgrey;\">Solution Histories/ [right click]/New...</span> would create a * .simh file and ask user for a name and location to save it. After assigning the name and saving place for this data-base a sub-folder on the tree of progress will be created where the field variables of interest can be set and saved in it. User can assign the field variables of interest to be saved via <span style=style=\"background-color:lightgrey;\">Function</span> option and frequency for saving these data via <span style=style=\"background-color:lightgrey;\">Update</span> option while <span style=style=\"background-color:lightgrey;\">Edit...</span> this sub-folder. Taking the path of <span style=style=\"background-color:lightgrey;\">[right click on sub-folder of * .simh file]/Create Recorded Solution View</span> would create another sub-folder under <span style=style=\"background-color:lightgrey;\">Solution View</span>. Users can make an animation of their variable of interest by creating a new new scene via <span style=style=\"background-color:lightgrey;\">Scenes/New Scene/Scalar</span> and drag-and-drop the newly created <span style=style=\"background-color:lightgrey;\">Solution Views</span> variable in it. Going back to the properties of the created solution view variable user can march through the temporal evolution of the flow field variables and also create animations. Fig. 4 and 5 show the recorded animation of temporal evolution for the streamwise velocity field and vorticity magnitude within the flow field around a cylinder with Reynolds of 100."
   ]
  },
  {
   "cell_type": "markdown",
   "metadata": {},
   "source": [
    "<insert velocity field animation.>"
   ]
  },
  {
   "cell_type": "markdown",
   "metadata": {},
   "source": [
    "<insert vorticity field animation.>"
   ]
  },
  {
   "cell_type": "markdown",
   "metadata": {},
   "source": [
    "**After performing the general post-processing steps, the user need to perform more detail oriented post-processing to confirm the validity of the CFD simulation. This stage can be a state-of-the-art. Comparing the numerical results against the theory (discussed earlier) or any other available experimental results is the final stage of post-processing. It is extremely important to calculate the correct corresponding numerical variables and compare them against the experimental or other numerical data.**\n",
    "\n",
    "In order to validate the numerical results from these simulations the numerically predicted drag coefficients of the cylinder were compared against the corresponding experimentally measure drag coefficient values from [here](https://www.researchgate.net/publication/232025673_Computations_of_the_drag_coefficients_for_low-Reynolds-number_flow_past_rings) for different Reynolds numbers. The reason behind choosing the drag coefficient is that the cylinder is significantly affected by the pressure forces acting on the body of cylinder and generating a wake behind the cylinder. It is worth to mention that in the laminar flows the effect of viscous forces on the drag force and coefficient on the cylinder is minimum.\n",
    "\n",
    "The value of the drag coefficient of the cylinder is defined as:\n",
    "\n",
    "$$ C_D~=~\\frac{F_D}{\\frac{1}{2} . \\rho_{ref} . V_{ref} ^2 . A_{proj}}. $$\n",
    "\n",
    "In this equation $F_D$, the total drag force due to pressure and viscous forces within the flow acting on the cylinder's surface in the streamwise direction, is normalized with the available momentum within the undisturbed incoming flow that could be exerted on the cylinder. The value of this momentum is calculated using $\\rho_{ref}$ as the reference density of the flow, which is the density of the flow. $V_{ref}$ as the undisturbed streamwise flow velocity in the inlet and $A_{proj}$, which is the projected area of the cylinder surface. For a two-dimensional cylinder the projected area is equal to the diameter of the cylinder. This is the area where pressure and viscus forces are acting on the cylinder in the streamwise direction. It should be noted that the pressure and viscous forces in the perpendicular direction to streamwise direction cancel each other. Hence, the forces and areas that they act on does not have any contribution to the drag force and coefficient.\n",
    "\n",
    "Users can calculate and report the value of drag coefficient following the path of <span style=style=\"background-color:lightgrey;\">Reports\\ [right click]\\New Report\\Force Coefficient</span>. Taking this path will create a new variable named <span style=style=\"background-color:lightgrey;\">Force Coefficient 1</span>. Users should edit and describe the desired direction and reference variables to define the desired force coefficient of interest based on the above-mentioned equations and explanation of it's values. It should be noted in this case study the flow field is unsteady, thus the value of force coefficient will have a temporal evolution. For post-processing purposes the temporal evolution should be monitored and saved, while the simulation is running. Users can create a monitor plot of the force coefficient of interest via <span style=style=\"background-color:lightgrey;\">Reports/ [right click on Force Coefficient variable]/Create Monitor and Plot from Report</span>. This will create a new variable under <span style=style=\"background-color:lightgrey;\">Monitor</span> folder and visualizes the temporal evolution of desired variable/s. The cosmetic details for the this plot can be done by editing the details of it. Fig. 4 shows the obtained temporal lift and drag coefficient values for flow field around cylinder with Reynolds of 100:\n",
    "\n",
    "\n",
    "<img src=\"./Images/sample.png\" width=\"500\" align=\"middle\">\n",
    "Fig. 4 - Temporal evolution of Cd and Cl for flow over a cylinder with Reynolds of 100.\n",
    "\n",
    "As shown in Fig. 4 the lift coefficient of the cylinder starts and fluctuates minimally around zero value. This is due to the symmetric flow field around the cylinder, while the laminar boundary layer is forming and growing close to the cylinder's wall. After specific time steps once the boundary layer detaches from the cylinder's wall and vortices start to shed from top and bottom of the cylinder into it's wake region, the lift coefficient value start to fluctuate periodically, showing the foot-print of periodic vortex shedding. The final corresponding value of the lift coefficient for this flow field will be the mean value of these temporal fluctuations which will be zero. \n",
    "On the other side of the spectrum, as shown in Fig. 4 the drag coefficient of the cylinder initially increases. This is due to the formation of the laminar boundary layer and recirculation region right behind the cylinder. The formation of recirculation region would increase the pressure gradient across the cylinder and therefore the magnitude of the force in the streamwise direction of the flow over cylinder. After about X seconds the values of the drag coefficient starts to fluctuate within a finite range around a fix mean value (similar to the lift coefficient). The reason behind these fluctuations is again the periodic vortex generation and shedding from the cylinder wall and unsteadiness of the flow. The final value of the drag coefficient will therefore be the mean of the fluctuating values as reported and compared against experimental values in Table 1.  \n",
    "\n",
    "\n",
    "| Reynolds #     | $C_D$ Exp. Validated| $C_D$ Numerical   |Relative Error [%]|\n",
    "| :-------------:|:-------------------:|:-----------------:|:----------------:|\n",
    "| 100            | 1.41                |     1.35          |    4.25          |\n",
    "| 200            | 1.31                |     1.32          |    0.76          |\n",
    "| 300            | 1.29                |     1.33          |    3.10          |\n",
    "| 400            | 1.15                |     1.37          |    19.13         ||\n",
    "\n",
    "Table 1. Comparison between the experimentally validated and numerically predicted a cylinder drag coefficient for different Reynolds number. Python scripts to post process these numerical data are provided in Simulation_Src directory. \n",
    "\n",
    "<The content needs to be modified based on the obtained numerical results.>\n",
    "Table 1 compares the experimentally [validated](https://www.researchgate.net/publication/232025673_Computations_of_the_drag_coefficients_for_low-Reynolds-number_flow_past_rings) and numerically calculated drag coefficient values for case study of laminar unsteady flow over a cylinder and states the corresponding value of the relative error percentage. As shown in this table the value of the relative error percentage are below 5% for cases up to the Reynolds number below 300. The numerical and experimental values are in a close agreement with each other for each corresponding Reynolds number. However, for Reynolds number of 400 and above the level of agreement between the previously experimentally validated data and current numerical data decreases significantly. The hypothesis behind this disagreement is that for flow with higher Reynolds number the flow field becomes three-dimensional. Hence, two-dimensional simulations are limited to capture and simulates the flow three-dimensionality behavior and the drag force inserted on the cylinder. As a result of this the relative error between the obtained numerical values and previously validated experimental results start to grow. This hypothesis is also addressed and investigated by [Rajani et. al.](http://www.sciencedirect.com/science/article/pii/S0307904X08000243) as well.\n",
    "\n",
    "As further validation steps for current case study user can also investigate the temporal evolution for the lift coefficient of the cylinder and/or compare the value of Strouhal number (Sr), the non-dimensional form of vortex shedding frequency in the wake of the cylinder, as a function of Reynolds number. It is expected that the level of agreement of these variables against their corresponding experimentally validated variables will be very good for flow with Reynolds number below 200. This agreement will however decrease as the Reynolds number and therefore the three-dimensionality of the flow increases.\n",
    "\n",
    "As the last step for post-processing and validation of the CFD simulations the value of the Strouhal number should be estimated and compared against the experimental data. The Strouhal number is a dimensionless form of the vortex shedding frequency defined as\n",
    "\n",
    "$$ St=\\frac{f * D}{U}.$$\n",
    "\n",
    "In this formulation $f$ is the vortex shedding frequency, $D$ is the length scale of the flow and $U$ is the free stream of the flow. In this formula the length scale $D$ is the diameter of the cylinder with magnitude of $ 1 \\frac{m}{s} $. $U$ is the magnitude of the free stream velocity with magnitude of $ 1 \\frac{m}{s} $. However, $f$ is unknown and should be estimated using the numerical data. Users are encouraged to take this further step of post-processing based on the above definition of Strouhal number and post-processing steps.\n",
    "\n",
    "At this stage one can conclude that this CFD numerical simulation is validated to study unsteady laminar flow over a cylinder using the provided numerical setup and methodology. Therefore, these simulations can be used for similar or more complex problems, such as unsteady flow over a cylinder or three dimensional laminar steady or unsteady flow over a sphere. This can be done via correct implementation in changing the corresponding solver, models and/or boundary conditions."
   ]
  },
  {
   "cell_type": "code",
   "execution_count": null,
   "metadata": {
    "collapsed": true
   },
   "outputs": [],
   "source": []
  }
 ],
 "metadata": {
  "kernelspec": {
   "display_name": "Python 3",
   "language": "python",
   "name": "python3"
  },
  "language_info": {
   "codemirror_mode": {
    "name": "ipython",
    "version": 3
   },
   "file_extension": ".py",
   "mimetype": "text/x-python",
   "name": "python",
   "nbconvert_exporter": "python",
   "pygments_lexer": "ipython3",
   "version": "3.5.2"
  }
 },
 "nbformat": 4,
 "nbformat_minor": 0
}
