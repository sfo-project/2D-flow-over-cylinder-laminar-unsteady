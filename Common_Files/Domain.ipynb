{
 "cells": [
  {
   "cell_type": "markdown",
   "metadata": {},
   "source": [
    "# CFD Domain's Creation & Discretization\n",
    "\n",
    "**The next step for developing the CFD simulation for a case study, after the review of physics and theory behind the problem of interest, is to create the CFD/Computational domain. This CFD domain will first be created and then discretized into small finite elements (2D) or finite volumes (3D). The flow field's governing equations are then solved numerically inside these elements or volumes via an iterative process till a converged solution inside the CFD domain is obtained. This section explains the techniques and process of creation and discretization of the CFD domain for the problem of interest. It should be highlighted that this sections provides the most generic steps and techniques to create the CFD domain. Users can implement these steps/techniques in the mesher of or download the pre-generated * .msh file from the \"Simulation_Src\" folder.**\n",
    "\n",
    "This simulation is carried out in a 2D CFD domain. First a cylinder (i.e. circle in 2D) centered at the global origin and with diameter of 1 [m] is created. This cylinder that would interact with the incoming flow as it rotates around it's central axis. The unit dimension (d = 1 [m]) is chosen to ease the calculation of various field variables such as Reynolds number. As the bounds of the CFD domain a larger concenteric cylinder with the smaller cylinder and diameter of 64 [m] is created. The choice of a circular domain would ease the process of meshing and setting up the boundary conditions. The sizes of the bounded cylinder is 64 times the main cylinder to ensure that the flow resembles an external flow and would not affected by artificial accelerated flow due to blockage effect. The raw geometry of the CFD domain is visualized in Fig.1:\n",
    "\n",
    "<img src=\"./Images/boundary.png\" width=\"500\">\n",
    "Fig. 1. A small and large cylinder form the raw geometry of the CFD domain.\n",
    "\n",
    "In order to define type of boundaries and their condition in simulation and ease the meshing process two extra vertical helping lines are created in the center of the domain on the raw geometry of the CFD domain. These lines divide the entire domain into two symmetrical halves. One can later define that the flow enters the CFD domain from the left half of the outer circle with a specified velocity value and exit the domain from the right half with a specific pressure. Fig. 2 visualizes the defined surfaces as the boundaries of the CFD domain.\n",
    "\n",
    "<img src=\"./Images/BoundCondsV2.png\" width=\"500\">\n",
    "Fig. 2. The prescribed surfaces and the boundaries of the CFD domain.\n",
    "\n",
    "The meshing process starts by dividing the edges of the small and large circles and the vertical helping lines into smaller elements. The number elements or the spacing between them defines the resolution of the mesh. For flow field with complex physics, such as unsteady or turbulent flows, users would need higher resolution (i.e. more number of elements on each edge). However, for simpler flows a coarse mesh resolution would be sufficient for the flow field simulation. \n",
    "\n",
    "As visualized in Fig. 3 in this mesh each of the line segments, including line segments of the smaller and larger cylinder as well as helping lines, were discretized into 100 mesh elements. The distribution of these elements were even on the line segments of the circles. However, a bias factor of 460 and growth rate of 1.2 from the cylinder wall was used to distribute the elements along the helping lines. Once these base edge meshes were created, connecting the points together would result into an entirely meshed CFD domain. With these base discretization of the CFD domain mentioned above, CFD domain ended up with 20,000 mesh elements. Fig. 3 visualizes the meshed CFD domain and a zoom-in view of the mesh resolution around cylinder controlled by defining specific bias factor and growth rate:\n",
    "\n",
    "<img src=\"./Images/mesh.png\" width=\"900\">\n",
    "Fig. 3. Discretization of the geometry boundaries into specified mesh elements.\n",
    "\n",
    "For the case studies with larger Reynolds number, in which the unsteadiness of the flow increases and the regime of the flow starts to transition from laminar to turbulence, the mesh resolution should be increased. This improvement of mesh resolution is most important in regions close to the cylinder wall were the boundary layer would form, grow and separates. This improvement can be done by either increasing the number of mesh divisions (i.e. mesh elements along each edge) or decreasing the growth rate of the elements from the cylinder wall or implementation of both simultaneously the same time. Furthermore, to locally increase the quality of the mesh in the wake of the cylinder one suggestion is to draw a horizontal helping line passing through the center of the domain and behind the small cylinder and match it's mesh discretization settings with the vertical helping lines. Using trial and error process the adequate bias factor, growth rate and number of mesh elements can be varied on these lines to improve mesh quality in the wake of the cylinder. \n",
    "\n",
    "<img src=\"./Images/aftermesh.png\" width=\"900\">\n",
    "Fig. 4. Finalized and discretized CFD domain with 20,000 mesh elements.\n",
    "\n",
    "Once the mesh is generated it's quality should be examined. This can be done using the provided features and functions defined in the meshing software. In general these functions calculate the aspect ratio of each elements and report a statistical report on them. In this stage the CFD domain is completely meshed and is ready to be setup for a CFD simulation."
   ]
  },
  {
   "cell_type": "code",
   "execution_count": null,
   "metadata": {
    "collapsed": true
   },
   "outputs": [],
   "source": []
  }
 ],
 "metadata": {
  "kernelspec": {
   "display_name": "Python 3",
   "language": "python",
   "name": "python3"
  },
  "language_info": {
   "codemirror_mode": {
    "name": "ipython",
    "version": 3
   },
   "file_extension": ".py",
   "mimetype": "text/x-python",
   "name": "python",
   "nbconvert_exporter": "python",
   "pygments_lexer": "ipython3",
   "version": "3.5.1"
  }
 },
 "nbformat": 4,
 "nbformat_minor": 0
}
